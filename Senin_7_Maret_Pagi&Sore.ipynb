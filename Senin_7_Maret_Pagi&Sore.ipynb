{
 "cells": [
  {
   "cell_type": "markdown",
   "metadata": {},
   "source": [
    "<h1><b>Tugas</b></h1>"
   ]
  },
  {
   "cell_type": "markdown",
   "metadata": {},
   "source": [
    "<h3><b> Buatlah 3 OOP beserta turunannya dari objek sekitar, buat ulang seperti contoh \n",
    "(encapsulation, abstaction, inheritance, polymorphism) </b></h3>"
   ]
  },
  {
   "cell_type": "markdown",
   "metadata": {},
   "source": [
    "<h4><b>Encapsulation</b></h4>"
   ]
  },
  {
   "cell_type": "code",
   "execution_count": 1,
   "metadata": {},
   "outputs": [
    {
     "name": "stdout",
     "output_type": "stream",
     "text": [
      "Merk: Samsung, Tahun Produksi: 2022, warna: hitam, Jenis TV: Smart TV\n",
      "Turning on TV\n"
     ]
    }
   ],
   "source": [
    "merk = \"Samsung\"\n",
    "tahun = 2022\n",
    "warna = \"hitam\"\n",
    "jenis = \"Smart TV\"\n",
    "\n",
    "def nyala():\n",
    "  print(\"Turning on TV\")\n",
    "\n",
    "def info_tv(nama, tahun, warna, jenis):\n",
    "  print(f\"Merk: {merk}, Tahun Produksi: {tahun}, warna: {warna}, Jenis TV: {jenis}\") \n",
    "\n",
    "info_tv(merk, tahun, warna, jenis)\n",
    "nyala()"
   ]
  },
  {
   "cell_type": "code",
   "execution_count": 2,
   "metadata": {},
   "outputs": [
    {
     "name": "stdout",
     "output_type": "stream",
     "text": [
      "Merk: Xiaomi, Tahun Produksi: 2021, warna: hitam, jenis: Smart Tv\n",
      "Turning on TV Xiaomi\n"
     ]
    }
   ],
   "source": [
    "class TV(object):\n",
    "    \n",
    "    merk_tv = \"\"\n",
    "    def __init__(self, input_merk, input_tahun, input_warna, input_jenis):\n",
    "        self.merk = input_merk\n",
    "        self.tahun = input_tahun\n",
    "        self.warna = input_warna\n",
    "        self.jenis = input_jenis\n",
    "        TV.merk_tv = input_merk\n",
    "\n",
    "    def nyala(self):\n",
    "        print(\"Turning on TV\", self.merk)\n",
    "\n",
    "    def info(self):\n",
    "        print(f\"Merk: {self.merk}, Tahun Produksi: {self.tahun}, warna: {self.warna}, jenis: {self.jenis}\")\n",
    "        \n",
    "        \n",
    "tv1 = TV(\"Xiaomi\", 2021, \"hitam\", \"Smart Tv\")\n",
    "\n",
    "tv1.info()\n",
    "tv1.nyala()"
   ]
  },
  {
   "cell_type": "markdown",
   "metadata": {},
   "source": [
    "<h4><b>Inheritence</b></h4>"
   ]
  },
  {
   "cell_type": "code",
   "execution_count": 3,
   "metadata": {},
   "outputs": [
    {
     "name": "stdout",
     "output_type": "stream",
     "text": [
      "Merk: Samsung, Tahun Produksi: 2022, Jenis: Smartphone, Berfungsi: True\n"
     ]
    }
   ],
   "source": [
    "class Elektronik(object):\n",
    "    def __init__(self, merk, tahun, jenis, normal):\n",
    "        self.merk = merk\n",
    "        self.tahun = tahun\n",
    "        self.jenis = jenis\n",
    "        self.normal = normal\n",
    "\n",
    "    def loading(self, durasi):\n",
    "        for x in range(durasi):\n",
    "            print(\"Loading Device\")\n",
    "\n",
    "    def info(self):\n",
    "        print(f\"Merk: {self.merk}, Tahun Produksi: {self.tahun}, Jenis: {self.jenis}, Berfungsi: {self.normal}\")\n",
    "\n",
    "\n",
    "device1 = Elektronik(\"Samsung\", 2022, \"Smartphone\", True)\n",
    "\n",
    "device1.info()"
   ]
  },
  {
   "cell_type": "code",
   "execution_count": 4,
   "metadata": {},
   "outputs": [
    {
     "name": "stdout",
     "output_type": "stream",
     "text": [
      "Merk: Samsung, Tahun Produksi: 2021, Jenis: TV OLED, Berfungsi: True\n",
      "Warna: Pitch Black, Harga: Rp. 5,500,00,-\n",
      "Loading Device\n",
      "Searching channel..\n"
     ]
    }
   ],
   "source": [
    "class TV(Elektronik):\n",
    "    def __init__(self,  merk, tahun, jenis, normal, warna, harga):\n",
    "        super().__init__(merk, tahun, jenis, normal)\n",
    "        self.warna = warna\n",
    "        self.harga = harga\n",
    "\n",
    "    def mencari(self):\n",
    "        super().loading(1)\n",
    "        print(\"Searching channel..\")\n",
    "\n",
    "    def info_tv(self):\n",
    "        super().info()\n",
    "        print(f\"Warna: {self.warna}, Harga: {self.harga}\")\n",
    "\n",
    "television1 = TV(\"Samsung\", 2021, \"TV OLED\", True, \"Pitch Black\", \"Rp. 5,500,00,-\")\n",
    "\n",
    "\n",
    "\n",
    "television1.info_tv()\n",
    "television1.mencari()"
   ]
  },
  {
   "cell_type": "markdown",
   "metadata": {},
   "source": [
    "<h4><b>Abstraction</b></h4>"
   ]
  },
  {
   "cell_type": "code",
   "execution_count": 5,
   "metadata": {},
   "outputs": [],
   "source": [
    "from abc import abstractmethod, ABC"
   ]
  },
  {
   "cell_type": "code",
   "execution_count": 6,
   "metadata": {},
   "outputs": [
    {
     "name": "stdout",
     "output_type": "stream",
     "text": [
      "Android\n",
      "Merk: Samsung\n",
      "Mid Range\n",
      "iOS\n",
      "Merk: Iphone X\n"
     ]
    }
   ],
   "source": [
    "class Absclass(ABC):\n",
    "    #Method biasa\n",
    "    def hp(self,x):\n",
    "        print(\"Merk:\", x)\n",
    "    \n",
    "    #Abstract Method\n",
    "    @abstractmethod\n",
    "    def os(self):\n",
    "        pass\n",
    "\n",
    "        \n",
    "class android(Absclass):\n",
    "    def os(self):\n",
    "        print(\"Android\")\n",
    "    def kelas(self):\n",
    "        print('Mid Range')\n",
    "        \n",
    "        \n",
    "class iOS(Absclass):\n",
    "    def os(self):\n",
    "        print(\"iOS\")\n",
    "\n",
    "\n",
    "#object of test_class created\n",
    "test_obj = android()\n",
    "test_obj.os()\n",
    "test_obj.hp(\"Samsung\")\n",
    "test_obj.kelas()\n",
    "\n",
    "test2_obj = iOS()\n",
    "test2_obj.os()\n",
    "test2_obj.hp(\"Iphone X\")"
   ]
  },
  {
   "cell_type": "code",
   "execution_count": 7,
   "metadata": {},
   "outputs": [],
   "source": [
    "class instrument(ABC):\n",
    "    \n",
    "    @abstractmethod\n",
    "    def suara(self):\n",
    "        pass\n",
    "    \n",
    "class drum(instrument):\n",
    "    def suara(self):\n",
    "        print(\"dum dum\")\n",
    "        \n",
    "class triangle(instrument):\n",
    "    def suara(self):\n",
    "        print(\"ting ting ting\")"
   ]
  },
  {
   "cell_type": "code",
   "execution_count": 8,
   "metadata": {},
   "outputs": [
    {
     "name": "stdout",
     "output_type": "stream",
     "text": [
      "dum dum\n",
      "ting ting ting\n"
     ]
    }
   ],
   "source": [
    "drum1 = drum()\n",
    "triangle1 = triangle()\n",
    "drum1.suara()\n",
    "triangle1.suara()"
   ]
  },
  {
   "cell_type": "markdown",
   "metadata": {},
   "source": [
    "<h4><b>Polymorphism</b></h4>"
   ]
  },
  {
   "cell_type": "code",
   "execution_count": 9,
   "metadata": {},
   "outputs": [],
   "source": [
    "class buku(object):\n",
    "    def __init__(self, judul, genre, tahun):\n",
    "        self.judul = judul\n",
    "        self.genre = genre\n",
    "        self.tahun = tahun\n",
    "    \n",
    "    def baca(self, durasi):\n",
    "        for i in range(durasi):\n",
    "            print(\"sedang membaca..\")\n",
    "            \n",
    "    def info(self):\n",
    "        print(f\"Judul Buku: {self.judul}\\nGenre: {self.genre}\\nTahun terbit: {self.tahun}\")\n",
    "\n",
    "        \n",
    "class hardcover(buku):\n",
    "    def __init__(self, judul, genre, tahun, warna, bahasa):\n",
    "        super().__init__(judul, genre, tahun)\n",
    "        self.warna = warna\n",
    "        self.bahasa = bahasa\n",
    "        \n",
    "    def doing(self, durasi):\n",
    "        for i in range(durasi):\n",
    "            print(\"membaca..membuka halaman..\")\n",
    "        \n",
    "class softcover(buku):\n",
    "    def __init__(self, judul, genre, tahun, harga, kondisi):\n",
    "        super().__init__(judul, genre, tahun)\n",
    "        self.harga = harga\n",
    "        self.kondisi = kondisi\n",
    "        \n",
    "    def fisik(self, kondisi_buku):\n",
    "        if kondisi_buku == True:\n",
    "            print(\"Buku Baru\")\n",
    "        else:\n",
    "            print(\"Buku Second\")"
   ]
  },
  {
   "cell_type": "code",
   "execution_count": null,
   "metadata": {},
   "outputs": [],
   "source": [
    "import buku as bk"
   ]
  },
  {
   "cell_type": "code",
   "execution_count": 11,
   "metadata": {},
   "outputs": [
    {
     "name": "stdout",
     "output_type": "stream",
     "text": [
      "Judul Buku: The Alchemist\n",
      "Genre: Fiksi\n",
      "Tahun terbit: 2020\n",
      "Buku Baru\n",
      "sedang membaca..\n",
      "sedang membaca..\n",
      "sedang membaca..\n",
      "Judul Buku: Atommic Habits\n",
      "Genre: Non-fiksi\n",
      "Tahun terbit: 2018\n",
      "membaca..membuka halaman..\n",
      "membaca..membuka halaman..\n"
     ]
    }
   ],
   "source": [
    "buku1 = softcover(\"The Alchemist\", \"Fiksi\", 2020, 175000, \"Bagus\")\n",
    "\n",
    "buku1.info()\n",
    "buku1.fisik(True)\n",
    "buku1.baca(3)\n",
    "\n",
    "\n",
    "buku2 = hardcover(\"Atommic Habits\", \"Non-fiksi\", 2018, \"Putih\", \"English\")\n",
    "\n",
    "buku2.info()\n",
    "buku2.doing(2)"
   ]
  },
  {
   "cell_type": "code",
   "execution_count": null,
   "metadata": {},
   "outputs": [],
   "source": []
  }
 ],
 "metadata": {
  "kernelspec": {
   "display_name": "Python 3",
   "language": "python",
   "name": "python3"
  },
  "language_info": {
   "codemirror_mode": {
    "name": "ipython",
    "version": 3
   },
   "file_extension": ".py",
   "mimetype": "text/x-python",
   "name": "python",
   "nbconvert_exporter": "python",
   "pygments_lexer": "ipython3",
   "version": "3.6.5"
  }
 },
 "nbformat": 4,
 "nbformat_minor": 2
}
