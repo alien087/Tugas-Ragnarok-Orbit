{
 "cells": [
  {
   "cell_type": "code",
   "execution_count": 5,
   "metadata": {},
   "outputs": [
    {
     "name": "stdout",
     "output_type": "stream",
     "text": [
      "hello\n",
      "\n",
      "This is also a string\n"
     ]
    }
   ],
   "source": [
    "# String\n",
    "\n",
    "print('hello')\n",
    "print()\n",
    "print('This is also a string')"
   ]
  },
  {
   "cell_type": "code",
   "execution_count": 3,
   "metadata": {},
   "outputs": [
    {
     "name": "stdout",
     "output_type": "stream",
     "text": [
      "New York\n",
      "<class 'str'>\n",
      "8\n"
     ]
    }
   ],
   "source": [
    "# Variable\n",
    "\n",
    "s = 'New York'\n",
    "print(s)\n",
    "print(type(s)) #string type\n",
    "print(len(s)) #string length"
   ]
  },
  {
   "cell_type": "code",
   "execution_count": 4,
   "metadata": {},
   "outputs": [
    {
     "name": "stdout",
     "output_type": "stream",
     "text": [
      "Hello World\n",
      "\n",
      "H\n",
      "\n",
      "e\n"
     ]
    }
   ],
   "source": [
    "# String Indexing\n",
    "\n",
    "s = 'Hello World'\n",
    "print(s)\n",
    "print()\n",
    "print(s[0])\n",
    "print()\n",
    "print(s[1])"
   ]
  },
  {
   "cell_type": "code",
   "execution_count": 6,
   "metadata": {},
   "outputs": [
    {
     "name": "stdout",
     "output_type": "stream",
     "text": [
      "Hello World\n",
      "Hello Hai Hello Hai Hello Hai \n",
      "----------\n"
     ]
    }
   ],
   "source": [
    "# String Concatenation & Repetition\n",
    "\n",
    "#Concatenation\n",
    "s1 = 'Hello'\n",
    "s2 = 'World'\n",
    "print(s1 +  \" \" + s2)\n",
    "\n",
    "#Repetition\n",
    "print(\"Hello Hai \" * 3)\n",
    "print(\"-\" * 10)\n"
   ]
  },
  {
   "cell_type": "code",
   "execution_count": null,
   "metadata": {},
   "outputs": [],
   "source": []
  },
  {
   "cell_type": "markdown",
   "metadata": {},
   "source": [
    "<h2><b> Ini Markdown </b></h2>\n",
    "### Ini MarkDown "
   ]
  },
  {
   "cell_type": "code",
   "execution_count": null,
   "metadata": {},
   "outputs": [],
   "source": []
  }
 ],
 "metadata": {
  "kernelspec": {
   "display_name": "Python 3",
   "language": "python",
   "name": "python3"
  },
  "language_info": {
   "codemirror_mode": {
    "name": "ipython",
    "version": 3
   },
   "file_extension": ".py",
   "mimetype": "text/x-python",
   "name": "python",
   "nbconvert_exporter": "python",
   "pygments_lexer": "ipython3",
   "version": "3.6.5"
  }
 },
 "nbformat": 4,
 "nbformat_minor": 2
}
