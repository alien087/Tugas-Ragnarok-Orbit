{
 "cells": [
  {
   "cell_type": "markdown",
   "metadata": {},
   "source": [
    "<h2><b>No 1</b></h2>\n",
    "<p>Percobaan Mandiri</p>\n"
   ]
  },
  {
   "cell_type": "code",
   "execution_count": 1,
   "metadata": {},
   "outputs": [],
   "source": [
    "def TrueFalse(m, n):\n",
    "    if m % n == 0:\n",
    "        return True\n",
    "    else:\n",
    "        return False\n"
   ]
  },
  {
   "cell_type": "code",
   "execution_count": 7,
   "metadata": {},
   "outputs": [
    {
     "name": "stdout",
     "output_type": "stream",
     "text": [
      "nilai m harus berupa angka integer!\n",
      "nilai m harus berupa angka integer!\n",
      "Nilai m: 3\n",
      "Nilai n: 4\n",
      "Result : False\n"
     ]
    }
   ],
   "source": [
    "m = None\n",
    "n = None\n",
    "\n",
    "while m == None:\n",
    "    m = input('Masukan Nilai m: ')\n",
    "    try:\n",
    "        m = int(m)\n",
    "        while m != None:\n",
    "            n = input('Masukan Nilai n: ')\n",
    "            try:\n",
    "                n = int(n)\n",
    "                if m != None and n != None:\n",
    "                    TrueFalse(m, n)\n",
    "                    print('Nilai m: {}'.format(m))\n",
    "                    print('Nilai n: {}'.format(n))\n",
    "                    print('Result : {}'.format(TrueFalse(m, n)))\n",
    "                    break\n",
    "            except:\n",
    "                print('Nilai n harus berupa angka integer!')\n",
    "                n=None\n",
    "    except:\n",
    "        print('nilai m harus berupa angka integer!')\n",
    "        m=None\n"
   ]
  },
  {
   "cell_type": "markdown",
   "metadata": {},
   "source": [
    "<h2><b>No 2</b></h2>\n"
   ]
  },
  {
   "cell_type": "code",
   "execution_count": 2,
   "metadata": {},
   "outputs": [],
   "source": [
    "menus = {\n",
    "    1: {\n",
    "        \"nama\": \"Soup and salad\"\n",
    "    },\n",
    "    2: {\n",
    "        \"nama\": \"Pasta with meat sauce\"\n",
    "    },\n",
    "    3: {\n",
    "        \"nama\": \"Chef’s special\"\n",
    "    },\n",
    "}\n"
   ]
  },
  {
   "cell_type": "code",
   "execution_count": 3,
   "metadata": {},
   "outputs": [],
   "source": [
    "pesanan = []\n",
    "def OrderMenu(menus):\n",
    "    # Menampilkan daftar Menu\n",
    "    print('='*10, 'DAFTAR MENU', '='*10)\n",
    "    for menu in menus:\n",
    "        nama_menu = menus.get(menu)['nama']\n",
    "        print(menu, nama_menu)\n",
    "    print('='*33)\n",
    "    # perulangan\n",
    "    while len(menus) != 0:\n",
    "        input_user = input('pilih menu : ')\n",
    "        kode_menu = 0\n",
    "        try:\n",
    "            kode_menu = int(input_user)\n",
    "            if kode_menu > 0 and kode_menu <= len(menus):\n",
    "                nama_menu = menus.get(kode_menu)['nama']\n",
    "                pesanan.append(nama_menu)\n",
    "                print('Anda memesan {}'.format(nama_menu))\n",
    "                print('Daftar pesanan Anda: ')\n",
    "                for pesan in pesanan:\n",
    "                    print(\"- \", pesan)\n",
    "                print('-'*33)\n",
    "            else:\n",
    "                print('Menu dengan kode {}'.format(\n",
    "                    kode_menu), 'tidak tersedia!')\n",
    "                print('-'*33)\n",
    "        except:\n",
    "            kode_menu = input_user\n",
    "            if kode_menu == 'cukup':\n",
    "                print('Terimakasih sudah berbelanja di tempat Kami')\n",
    "                print('Daftar pesanan Anda: ')\n",
    "                for pesan in pesanan:\n",
    "                    print(\"- \", pesan)\n",
    "                print('-'*33)\n",
    "                pesanan.clear()\n",
    "                break\n",
    "            else:\n",
    "                print('Perintah yang Anda masukan salah!, harus berupa kode menu')\n"
   ]
  },
  {
   "cell_type": "code",
   "execution_count": 5,
   "metadata": {},
   "outputs": [
    {
     "name": "stdout",
     "output_type": "stream",
     "text": [
      "========== DAFTAR MENU ==========\n",
      "1 Soup and salad\n",
      "2 Pasta with meat sauce\n",
      "3 Chef’s special\n",
      "=================================\n",
      "Anda memesan Soup and salad\n",
      "Daftar pesanan Anda: \n",
      "-  Soup and salad\n",
      "---------------------------------\n",
      "Terimakasih sudah berbelanja di tempat Kami\n",
      "Daftar pesanan Anda: \n",
      "-  Soup and salad\n",
      "---------------------------------\n"
     ]
    }
   ],
   "source": [
    "# Memamnggil Order Menu\n",
    "OrderMenu(menus)\n"
   ]
  },
  {
   "cell_type": "markdown",
   "metadata": {},
   "source": [
    "<h2><b>No 3</b></h2>"
   ]
  },
  {
   "cell_type": "code",
   "execution_count": 7,
   "metadata": {},
   "outputs": [
    {
     "name": "stdout",
     "output_type": "stream",
     "text": [
      "Input harus berupa angka integer!\n",
      "------------------------------\n",
      "Input harus berupa angka integer!\n",
      "------------------------------\n",
      "Nilai: 1\n",
      "Result:  False\n",
      "------------------------------\n"
     ]
    }
   ],
   "source": [
    "def rand_divis_3():\n",
    "    nilai=None\n",
    "    while nilai==None:\n",
    "        input_user = input(\"Masukkan Nilai : \")\n",
    "        try:\n",
    "            nilai= int(input_user)\n",
    "            if nilai % 3 == 0 :\n",
    "                print('Nilai: {}'.format(nilai))\n",
    "                print('Result: ',True)\n",
    "                print('-'*30)\n",
    "            else:\n",
    "                print('Nilai: {}'.format(nilai))\n",
    "                print('Result: ',False)\n",
    "                print('-'*30)\n",
    "        except:\n",
    "            nilai=None\n",
    "            print('Input harus berupa angka integer!')\n",
    "            print('-'*30)\n",
    "\n",
    "#memanggil method   \n",
    "rand_divis_3()"
   ]
  },
  {
   "cell_type": "markdown",
   "metadata": {},
   "source": [
    "<h2><b>No 4</b></h2>"
   ]
  },
  {
   "cell_type": "code",
   "execution_count": 9,
   "metadata": {},
   "outputs": [],
   "source": [
    "# input_user=int(input('Masukan angka antara 1-10: '))\n",
    "\n",
    "def TestInputan(train,test):\n",
    "    masukan= str(test)\n",
    "    hasil=None\n",
    "    for char in masukan:\n",
    "        if char in train :\n",
    "            if len(masukan)==len(train):\n",
    "                hasil=True\n",
    "        else:\n",
    "            hasil=False\n",
    "    print('String train: {}'.format(train))\n",
    "    print('String Anda: {}'.format(masukan))\n",
    "    print('Result:',hasil)"
   ]
  },
  {
   "cell_type": "code",
   "execution_count": 1,
   "metadata": {},
   "outputs": [
    {
     "name": "stdout",
     "output_type": "stream",
     "text": [
      "Akan menguji apakah inputan user = 'Rayinda' \n",
      "Masukan string: Rayinda\n"
     ]
    }
   ],
   "source": [
    "print(\"Akan menguji apakah inputan user = 'Rayinda' \")\n",
    "train='Rayinda'\n",
    "test=str(input('Masukan string: '))\n",
    "# TestInputan(train, test)\n",
    "if test!='Rayinda':\n",
    "    print('tidak sama')\n"
   ]
  },
  {
   "cell_type": "markdown",
   "metadata": {},
   "source": [
    "<h2><b>No 5</b></h2>"
   ]
  },
  {
   "cell_type": "code",
   "execution_count": 2,
   "metadata": {},
   "outputs": [
    {
     "name": "stdout",
     "output_type": "stream",
     "text": [
      "Enter your name: Rayinda\n",
      "Your name is Rayinda\n"
     ]
    }
   ],
   "source": [
    "# Ini adalah method yang benar\n",
    "def ask_name():\n",
    "    name = input(\"Enter your name: \")\n",
    "    print(\"Your name is\", name)\n",
    "    \n",
    "ask_name()"
   ]
  },
  {
   "cell_type": "code",
   "execution_count": 16,
   "metadata": {},
   "outputs": [
    {
     "name": "stdout",
     "output_type": "stream",
     "text": [
      "j\n",
      "e\n",
      "j\n",
      "e\n"
     ]
    }
   ],
   "source": [
    "nama=\"Rayinda\"\n",
    "for char in nama:\n",
    "    print(char)"
   ]
  }
 ],
 "metadata": {
  "interpreter": {
   "hash": "8a0314e9a3496969cdc3b628708851b260263268c48c6868778a684e0fdc7ce1"
  },
  "kernelspec": {
   "display_name": "Python 3",
   "language": "python",
   "name": "python3"
  },
  "language_info": {
   "codemirror_mode": {
    "name": "ipython",
    "version": 3
   },
   "file_extension": ".py",
   "mimetype": "text/x-python",
   "name": "python",
   "nbconvert_exporter": "python",
   "pygments_lexer": "ipython3",
   "version": "3.6.5"
  }
 },
 "nbformat": 4,
 "nbformat_minor": 2
}
