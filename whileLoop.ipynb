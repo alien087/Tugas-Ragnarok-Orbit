{
 "cells": [
  {
   "cell_type": "code",
   "execution_count": 2,
   "metadata": {},
   "outputs": [],
   "source": [
    "menus = {\n",
    "    1: {\n",
    "        \"nama\": \"Donat\",\n",
    "        \"harga\": 1250\n",
    "    },\n",
    "    2: {\n",
    "        \"nama\": \"Bakwan\",\n",
    "        \"harga\": 1000\n",
    "    },\n",
    "    3: {\n",
    "        \"nama\": \"Onde-Onde\",\n",
    "        \"harga\": 800\n",
    "    },\n",
    "    4: {\n",
    "        \"nama\": \"Lemper\",\n",
    "        \"harga\": 1250\n",
    "    },\n",
    "    5: {\n",
    "        \"nama\": \"Risol\",\n",
    "        \"harga\": 1500\n",
    "    },\n",
    "}\n"
   ]
  },
  {
   "cell_type": "code",
   "execution_count": 3,
   "metadata": {},
   "outputs": [
    {
     "name": "stdout",
     "output_type": "stream",
     "text": [
      "========== DAFTAR MENU ==========\n",
      "1 Donat\n",
      "2 Bakwan\n",
      "3 Onde-Onde\n",
      "4 Lemper\n",
      "5 Risol\n",
      "=================================\n",
      "Anda memesan Donat dengan harga Rp.1250\n",
      "Total pesanan Anda: Rp.1250\n",
      "---------------------------------\n",
      "Anda memesan Bakwan dengan harga Rp.1000\n",
      "Total pesanan Anda: Rp.2250\n",
      "---------------------------------\n",
      "Anda memesan Onde-Onde dengan harga Rp.800\n",
      "Total pesanan Anda: Rp.3050\n",
      "---------------------------------\n",
      "Terimakasih sudah berbelanja di tempat Kami\n",
      "Total pesanan Anda: Rp.3050\n",
      "---------------------------------\n"
     ]
    }
   ],
   "source": [
    "print('='*10, 'DAFTAR MENU', '='*10)\n",
    "for menu in menus:\n",
    "    nama_menu = menus.get(menu)['nama']\n",
    "    print(menu, nama_menu)\n",
    "print('='*33)\n",
    "\n",
    "# Kontainer pesanan\n",
    "pesanan = []\n",
    "\n",
    "# perulangan\n",
    "while len(menus) != 0:\n",
    "    input_user = input('pilih menu : ')\n",
    "    kode_menu = 0\n",
    "    total_pesan = 0\n",
    "    try:\n",
    "        kode_menu = int(input_user)\n",
    "        if kode_menu > 0 and kode_menu <= 5:\n",
    "            menu_harga = menus.get(kode_menu)['harga']\n",
    "            pesanan.append(menu_harga)\n",
    "            for pesan in pesanan:\n",
    "                total_pesan += pesan\n",
    "            print('Anda memesan {}'.format(menus.get(kode_menu)[\n",
    "                  'nama']), 'dengan harga Rp.{}'.format(menu_harga))\n",
    "            print('Total pesanan Anda: Rp.{}'.format(total_pesan))\n",
    "            print('-'*33)\n",
    "        else:\n",
    "            print('Menu dengan kode {}'.format(kode_menu), 'tidak tersedia!')\n",
    "            print('-'*33)\n",
    "    except:\n",
    "        kode_menu = input_user\n",
    "        if kode_menu == 'cukup':\n",
    "            if len(pesanan) < 3:\n",
    "                print('Pesanan Anda kurang dari 3, Silahkan pesan lagi!')\n",
    "                continue\n",
    "            else:\n",
    "                for pesan in pesanan:\n",
    "                    total_pesan += pesan\n",
    "                print('Terimakasih sudah berbelanja di tempat Kami')\n",
    "                print('Total pesanan Anda: Rp.{}'.format(total_pesan))\n",
    "                print('-'*33)\n",
    "                break\n",
    "        else:\n",
    "            print('Perintah yang Anda masukan salah')\n",
    "        total_pesan = 0\n"
   ]
  },
  {
   "cell_type": "code",
   "execution_count": 28,
   "metadata": {},
   "outputs": [],
   "source": [
    "def totalPesan(dict):\n",
    "    pesanan = dict['customer']\n",
    "    total = 0\n",
    "    for pesan in pesanan:\n",
    "        total = total+pesan\n",
    "    return total\n",
    "\n",
    "\n",
    "transaksi = {\n",
    "    'customer': {\n",
    "        'pesanan': [],\n",
    "        'total': totalPesan('pesanan')\n",
    "    }\n",
    "}\n"
   ]
  },
  {
   "cell_type": "code",
   "execution_count": 31,
   "metadata": {},
   "outputs": [
    {
     "name": "stdout",
     "output_type": "stream",
     "text": [
      "[20, 40]\n",
      "20\n"
     ]
    }
   ],
   "source": [
    "daftar_pesanan = transaksi.get('customer')['pesanan'] = [20, 40]\n",
    "print(transaksi['customer'].get('pesanan'))\n",
    "print(transaksi['customer'].get('total'))\n"
   ]
  },
  {
   "cell_type": "code",
   "execution_count": 7,
   "metadata": {},
   "outputs": [
    {
     "name": "stdout",
     "output_type": "stream",
     "text": [
      "{'customer': {'pesanan': [20, 30, 19], 'total': <function totalPesan at 0x000001FC0F103B70>}}\n"
     ]
    }
   ],
   "source": [
    "transaksi['customer']['pesanan'] = [20, 30, 19]\n",
    "print(transaksi)\n"
   ]
  },
  {
   "cell_type": "code",
   "execution_count": 13,
   "metadata": {},
   "outputs": [
    {
     "name": "stdout",
     "output_type": "stream",
     "text": [
      "{'pesanan': [20, 30, 19], 'total': <function totalPesan at 0x000001FC0F103B70>}\n"
     ]
    }
   ],
   "source": [
    "print(transaksi['customer'])\n"
   ]
  },
  {
   "cell_type": "code",
   "execution_count": 53,
   "metadata": {},
   "outputs": [
    {
     "name": "stdout",
     "output_type": "stream",
     "text": [
      "Prima: [1, 3, 5, 7, 11, 13, 17, 19, 23, 29, 31, 37, 41, 43, 47, 49, 53, 59, 61, 67, 71, 73, 77, 79, 83, 89, 91, 97]\n",
      "Total: 28\n"
     ]
    }
   ],
   "source": [
    "prime = []\n",
    "for bil in range(1, 101):\n",
    "    if bil % 2 == 1:\n",
    "        if bil == 3 or bil % 3 != 0:\n",
    "            if bil == 5 or bil % 5 != 0:\n",
    "                prime.append(bil)\n",
    "print('Prima: {}'.format(prime))\n",
    "print('Total: {}'.format(len(prime)))\n"
   ]
  },
  {
   "cell_type": "code",
   "execution_count": 57,
   "metadata": {},
   "outputs": [
    {
     "name": "stdout",
     "output_type": "stream",
     "text": [
      "True\n"
     ]
    }
   ],
   "source": [
    "coba=2\n",
    "print(coba is coba)"
   ]
  }
 ],
 "metadata": {
  "interpreter": {
   "hash": "8a0314e9a3496969cdc3b628708851b260263268c48c6868778a684e0fdc7ce1"
  },
  "kernelspec": {
   "display_name": "Python 3.7.1 64-bit ('base': conda)",
   "language": "python",
   "name": "python3"
  },
  "language_info": {
   "codemirror_mode": {
    "name": "ipython",
    "version": 3
   },
   "file_extension": ".py",
   "mimetype": "text/x-python",
   "name": "python",
   "nbconvert_exporter": "python",
   "pygments_lexer": "ipython3",
   "version": "3.7.1"
  },
  "orig_nbformat": 4
 },
 "nbformat": 4,
 "nbformat_minor": 2
}
