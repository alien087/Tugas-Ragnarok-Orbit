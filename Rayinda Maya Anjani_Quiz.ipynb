{
 "cells": [
  {
   "cell_type": "markdown",
   "metadata": {},
   "source": [
    "<h2><b>Python OOP</b></h2>"
   ]
  },
  {
   "cell_type": "code",
   "execution_count": null,
   "metadata": {},
   "outputs": [],
   "source": [
    "1. OOP adalah suatu metode pemrograman yang berorientasi pada objek. Program-program yang telah ada merupakan gabungan dari \n",
    "beberapa komponen-komponen kecil yang sudah ada sebelumnya. "
   ]
  },
  {
   "cell_type": "code",
   "execution_count": 5,
   "metadata": {},
   "outputs": [
    {
     "name": "stdout",
     "output_type": "stream",
     "text": [
      "Rayinda Maya Anjani\n",
      "Universitas Amikom Purwokerto\n",
      "Purwokerto\n"
     ]
    }
   ],
   "source": [
    "class IniConstruct:\n",
    "    # dibawah ini adalah kontruktor\n",
    "    def __init__(self, nama, universitas, kota):\n",
    "        self.nama = nama\n",
    "        self.universitas = universitas\n",
    "        self.kota = kota\n",
    "# membuat object\n",
    "saya = IniConstruct('Rayinda Maya Anjani', 'Universitas Amikom Purwokerto', 'Purwokerto')\n",
    "print(saya.nama)\n",
    "print(saya.universitas)\n",
    "print(saya.kota)"
   ]
  },
  {
   "cell_type": "code",
   "execution_count": 6,
   "metadata": {},
   "outputs": [
    {
     "name": "stdout",
     "output_type": "stream",
     "text": [
      "Jika tulisan ini muncul maka class Coba berhasil diinheritence oleh class IniTurunanCoba\n"
     ]
    }
   ],
   "source": [
    "class Coba:\n",
    "    txt = \"Jika tulisan ini muncul maka class Coba berhasil diinheritence oleh class IniTurunanCoba\"\n",
    "\n",
    "\n",
    "class IniTurunanCoba(Coba):\n",
    "    pass\n",
    "\n",
    "\n",
    "# coba\n",
    "print(IniTurunanCoba.txt)"
   ]
  },
  {
   "cell_type": "code",
   "execution_count": null,
   "metadata": {},
   "outputs": [],
   "source": [
    "2. Sebutkan dan Jelaskan 2 jenis modules yang ada di python \n",
    "- Module Math : adalah modul yang digunakan untuk perhitungan matematika\n",
    "- Module Time : adalah modul yang digunakan untuk mengetahui waktu seperti tanggal, hari dll."
   ]
  },
  {
   "cell_type": "code",
   "execution_count": null,
   "metadata": {},
   "outputs": [],
   "source": [
    "3. Hitunglah menggunakan module math !"
   ]
  },
  {
   "cell_type": "code",
   "execution_count": 7,
   "metadata": {},
   "outputs": [
    {
     "data": {
      "text/plain": [
       "28.145095132914648"
      ]
     },
     "execution_count": 7,
     "metadata": {},
     "output_type": "execute_result"
    }
   ],
   "source": [
    "import math\n",
    "math.sqrt(175)+4*math.sqrt(7)+(1/3)+math.log(81,3)"
   ]
  },
  {
   "cell_type": "code",
   "execution_count": null,
   "metadata": {},
   "outputs": [],
   "source": [
    "4. Custom exception handling merupakan Custom exception handling merupakan suatu cara yang menangani kesalahan selama proses \n",
    "eksekusi (saat program sedang berjalan)."
   ]
  },
  {
   "cell_type": "markdown",
   "metadata": {},
   "source": [
    "<h2><b>Artificial Intelligence</b></h2>"
   ]
  },
  {
   "cell_type": "code",
   "execution_count": null,
   "metadata": {},
   "outputs": [],
   "source": [
    "1. Data terstruktur :\n",
    "- Sangat terorganisir dan mudah dicari dengan kueri atau algoritma \n",
    "- Dapat dengan cepat dikonsolidasikan menjadi fakta\n",
    "- Biasanya berada di bidang tetap\n",
    "\n",
    "Sedangkan Data tidak terstruktur :\n",
    "- Tidak ada struktur yang dapat diidentifikasi untuk jenis data ini\n",
    "- Memiliki struktur internal\n",
    "- Tidak dapat disimpan dalam baris dan kolom seperti database relasional\n",
    "\n",
    "Sumber data : Kuisioner, gambar, suara"
   ]
  },
  {
   "cell_type": "code",
   "execution_count": null,
   "metadata": {},
   "outputs": [],
   "source": [
    "2. Perbedaan AI, Machine Learning dan Deep Learning :\n",
    "- Artificial Intellegent adalah sebuah sistem komputer yang diciptakan untuk mengatasi masalah yang biasa dikerjakan oleh \n",
    "manusia dengan kecerdasan buatan yang dimilliki.\n",
    "- Machine learning adalah bagian dari AI dimana merupakan perancangan dan pengembangan algoritma dimana mesin didesain untuk \n",
    "bisa memprosesnya secara mandiri berdasarkan data-data yang ada\n",
    "- Deep learning adalah bagian dari AI dan Machine Learning, yang merupakan sebuah teknik untuk menjalankan machine learning \n",
    "dengan algoritma yang dirancang seperti jaringan saraf"
   ]
  },
  {
   "cell_type": "code",
   "execution_count": null,
   "metadata": {},
   "outputs": [],
   "source": [
    "3. Perbedaan machine learning dengan traditional software :\n",
    "- Mechine learning sudah algortima di dalam komputer yang dibuat oleh manusia, sehingga dari data-data yang dimasukan mechine \n",
    "sudah bisa melakukan analisa atau prediksi dari datanya.\n",
    "- Tradisional software masih membutuhkan manusia untuk melakukan analisa atau prediksi, sehingga tidak secara otomatis \n",
    "diberikan oleh komputer."
   ]
  },
  {
   "cell_type": "code",
   "execution_count": null,
   "metadata": {},
   "outputs": [],
   "source": [
    "4. Tiga Contoh aplikasi machine learning di sektor smart city and agriculture!\n",
    "- Smart Parking\n",
    "- Image recognition\n",
    "- Face Recognization\n",
    "- Waste management\n",
    "- Smart Goverment apps\n",
    "- Stock Prediction"
   ]
  },
  {
   "cell_type": "markdown",
   "metadata": {},
   "source": [
    "<h2><b>Math for AI</b></h2>"
   ]
  },
  {
   "cell_type": "code",
   "execution_count": null,
   "metadata": {},
   "outputs": [],
   "source": [
    "1. Kenapa matematika penting untuk mempelajari AI"
   ]
  },
  {
   "cell_type": "code",
   "execution_count": null,
   "metadata": {},
   "outputs": [],
   "source": [
    "2. Perbedaan Vektor dan skalar\n",
    "- Vektor merupakan besaran yang memiliki nilai dan arah, Sedangkan\n",
    "- skalar adalah suatu elemen besaran yang tidak memiliki arah"
   ]
  },
  {
   "cell_type": "code",
   "execution_count": null,
   "metadata": {},
   "outputs": [],
   "source": [
    "3. Perbedaaan Jarak Euclidean & Manhatan\n",
    "- Euclidean merupakam jalur terpendek antara sumber dan tujuan yang berupa garis lurus. Sedangkan\n",
    "- Manhatan merupakan jumlah dari semua jarak anatara sumber, tujuan dan juga setiap jarak selalu berupagaris lurus."
   ]
  },
  {
   "cell_type": "code",
   "execution_count": null,
   "metadata": {},
   "outputs": [],
   "source": [
    "4. Kegunaan matriks : yaitu digunakan untuk menyelesaikan suatu proses perhitungan yang dilakukan algoritma didalamnya. "
   ]
  },
  {
   "cell_type": "markdown",
   "metadata": {},
   "source": [
    "<h2><b>Machine Learning</b></h2>"
   ]
  },
  {
   "cell_type": "code",
   "execution_count": null,
   "metadata": {},
   "outputs": [],
   "source": [
    "1. Perbedaan Supervised learning dan Unsupervised learning\n",
    "- Supervised learning merupakan sebuah algoritma meachine learning yang mempelajari data yang berlabel dan mempunyai target \n",
    "  variabel. Sedangkan \n",
    "- Unsupervised learning merupakan sebuah meachine learning yang mempelajari pola data dan tidak mempunyai target variabel.\n",
    "\n",
    "Contohnya : \n",
    "Decision tree, Random Forest\n",
    "DBSCAN, KNN"
   ]
  },
  {
   "cell_type": "code",
   "execution_count": null,
   "metadata": {},
   "outputs": [],
   "source": [
    "2. Tahap machine learning life cycle\n",
    "Menentukan tujuan, mengumpulkan data, menyiapkan data, memilih algoritma, latih model, tes model, integrasi model\n",
    "- Menentukan tujuan\n",
    "tahap pertama dalam ML life cycle adalah menetukan tujuan dari mechine learning berdasar case yang ada\n",
    "- Mengumpulkan data\n",
    "tahap kedua adalah mengumpulkan data diperlukan berdasarkan dengan tujuan yang ingin dicapai\n",
    "- Menyiapkan data \n",
    "tahap berikutnya adalah menyiapkan data. pada tahap ini dapat berupa cleansing, dsb.\n",
    "- Pilih algoritma\n",
    "menentukan algoritma yang sesuai dengan data yang akan dibutuhkan dan sesuai dengan case studi\n",
    "- Latih model\n",
    "melatih model supaya dapat membuat sebuah aturan berdasarkan data dan jawaban yang dimiliki.\n",
    "- Tes model\n",
    "melakukan tes pada model apakah model tersebut sudah cocok dan menghasikan output yang sesuai\n",
    "- Integrasikan model\n",
    "mengintegrasikan model untuk machine learning"
   ]
  },
  {
   "cell_type": "code",
   "execution_count": null,
   "metadata": {},
   "outputs": [],
   "source": [
    "3. Perbedaan regression dan clustering\n",
    "Regression : digunakan untuk memprediksi suatu objek sedangkan clustering : digunakan untuk mengelompokkan kelas suatu objek"
   ]
  },
  {
   "cell_type": "code",
   "execution_count": null,
   "metadata": {},
   "outputs": [],
   "source": [
    "4. Algoritma ANN adalah model penalaran yang didasarkan pada otak manusia.\n",
    "algoritma ini terdiri dari sejumlah prosesor sangat sederhana dan saling berhubungan yang disebut neuron. \n",
    "Fungsi : untuk megatasi permasalahan klasifikasi memetakan pola, dan lain-lain."
   ]
  }
 ],
 "metadata": {
  "kernelspec": {
   "display_name": "Python 3",
   "language": "python",
   "name": "python3"
  },
  "language_info": {
   "codemirror_mode": {
    "name": "ipython",
    "version": 3
   },
   "file_extension": ".py",
   "mimetype": "text/x-python",
   "name": "python",
   "nbconvert_exporter": "python",
   "pygments_lexer": "ipython3",
   "version": "3.6.5"
  }
 },
 "nbformat": 4,
 "nbformat_minor": 2
}
